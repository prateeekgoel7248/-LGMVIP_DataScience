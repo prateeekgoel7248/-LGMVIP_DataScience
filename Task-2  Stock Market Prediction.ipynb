{
 "cells": [
  {
   "cell_type": "markdown",
   "id": "1f583961",
   "metadata": {},
   "source": [
    "# Stock Market Prediction"
   ]
  },
  {
   "cell_type": "code",
   "execution_count": 40,
   "id": "633716d5",
   "metadata": {},
   "outputs": [],
   "source": [
    "import numpy as np\n",
    "import pandas as pd\n",
    "import math\n",
    "import matplotlib.pyplot as plt\n",
    "import seaborn as sns\n",
    "from numpy import array\n",
    "from sklearn.metrics import mean_squared_error\n",
    "from tensorflow.keras.models import Sequential\n",
    "from tensorflow.keras.layers import Dense\n",
    "from tensorflow.keras.layers import LSTM\n",
    "import tensorflow as tf\n",
    "import sklearn\n",
    "%matplotlib inline\n",
    "import warnings\n",
    "warnings.filterwarnings(\"ignore\")\n",
    "from sklearn.preprocessing import MinMaxScaler"
   ]
  },
  {
   "cell_type": "code",
   "execution_count": 2,
   "id": "d0678521",
   "metadata": {},
   "outputs": [
    {
     "data": {
      "text/html": [
       "<div>\n",
       "<style scoped>\n",
       "    .dataframe tbody tr th:only-of-type {\n",
       "        vertical-align: middle;\n",
       "    }\n",
       "\n",
       "    .dataframe tbody tr th {\n",
       "        vertical-align: top;\n",
       "    }\n",
       "\n",
       "    .dataframe thead th {\n",
       "        text-align: right;\n",
       "    }\n",
       "</style>\n",
       "<table border=\"1\" class=\"dataframe\">\n",
       "  <thead>\n",
       "    <tr style=\"text-align: right;\">\n",
       "      <th></th>\n",
       "      <th>Date</th>\n",
       "      <th>Open</th>\n",
       "      <th>High</th>\n",
       "      <th>Low</th>\n",
       "      <th>Last</th>\n",
       "      <th>Close</th>\n",
       "      <th>Total Trade Quantity</th>\n",
       "      <th>Turnover (Lacs)</th>\n",
       "    </tr>\n",
       "  </thead>\n",
       "  <tbody>\n",
       "    <tr>\n",
       "      <th>0</th>\n",
       "      <td>2018-09-28</td>\n",
       "      <td>234.05</td>\n",
       "      <td>235.95</td>\n",
       "      <td>230.20</td>\n",
       "      <td>233.50</td>\n",
       "      <td>233.75</td>\n",
       "      <td>3069914</td>\n",
       "      <td>7162.35</td>\n",
       "    </tr>\n",
       "    <tr>\n",
       "      <th>1</th>\n",
       "      <td>2018-09-27</td>\n",
       "      <td>234.55</td>\n",
       "      <td>236.80</td>\n",
       "      <td>231.10</td>\n",
       "      <td>233.80</td>\n",
       "      <td>233.25</td>\n",
       "      <td>5082859</td>\n",
       "      <td>11859.95</td>\n",
       "    </tr>\n",
       "    <tr>\n",
       "      <th>2</th>\n",
       "      <td>2018-09-26</td>\n",
       "      <td>240.00</td>\n",
       "      <td>240.00</td>\n",
       "      <td>232.50</td>\n",
       "      <td>235.00</td>\n",
       "      <td>234.25</td>\n",
       "      <td>2240909</td>\n",
       "      <td>5248.60</td>\n",
       "    </tr>\n",
       "    <tr>\n",
       "      <th>3</th>\n",
       "      <td>2018-09-25</td>\n",
       "      <td>233.30</td>\n",
       "      <td>236.75</td>\n",
       "      <td>232.00</td>\n",
       "      <td>236.25</td>\n",
       "      <td>236.10</td>\n",
       "      <td>2349368</td>\n",
       "      <td>5503.90</td>\n",
       "    </tr>\n",
       "    <tr>\n",
       "      <th>4</th>\n",
       "      <td>2018-09-24</td>\n",
       "      <td>233.55</td>\n",
       "      <td>239.20</td>\n",
       "      <td>230.75</td>\n",
       "      <td>234.00</td>\n",
       "      <td>233.30</td>\n",
       "      <td>3423509</td>\n",
       "      <td>7999.55</td>\n",
       "    </tr>\n",
       "  </tbody>\n",
       "</table>\n",
       "</div>"
      ],
      "text/plain": [
       "         Date    Open    High     Low    Last   Close  Total Trade Quantity  \\\n",
       "0  2018-09-28  234.05  235.95  230.20  233.50  233.75               3069914   \n",
       "1  2018-09-27  234.55  236.80  231.10  233.80  233.25               5082859   \n",
       "2  2018-09-26  240.00  240.00  232.50  235.00  234.25               2240909   \n",
       "3  2018-09-25  233.30  236.75  232.00  236.25  236.10               2349368   \n",
       "4  2018-09-24  233.55  239.20  230.75  234.00  233.30               3423509   \n",
       "\n",
       "   Turnover (Lacs)  \n",
       "0          7162.35  \n",
       "1         11859.95  \n",
       "2          5248.60  \n",
       "3          5503.90  \n",
       "4          7999.55  "
      ]
     },
     "execution_count": 2,
     "metadata": {},
     "output_type": "execute_result"
    }
   ],
   "source": [
    "df = pd.read_csv(\"stock_market.csv\")\n",
    "df.head()"
   ]
  },
  {
   "cell_type": "code",
   "execution_count": 3,
   "id": "b5fd23c2",
   "metadata": {},
   "outputs": [
    {
     "data": {
      "text/plain": [
       "(2035, 8)"
      ]
     },
     "execution_count": 3,
     "metadata": {},
     "output_type": "execute_result"
    }
   ],
   "source": [
    "df.shape"
   ]
  },
  {
   "cell_type": "code",
   "execution_count": 4,
   "id": "6064d823",
   "metadata": {},
   "outputs": [],
   "source": [
    "df1 = df['Close']"
   ]
  },
  {
   "cell_type": "code",
   "execution_count": 5,
   "id": "baad0229",
   "metadata": {},
   "outputs": [
    {
     "data": {
      "text/plain": [
       "0       233.75\n",
       "1       233.25\n",
       "2       234.25\n",
       "3       236.10\n",
       "4       233.30\n",
       "         ...  \n",
       "2030    118.65\n",
       "2031    117.60\n",
       "2032    120.65\n",
       "2033    120.90\n",
       "2034    121.55\n",
       "Name: Close, Length: 2035, dtype: float64"
      ]
     },
     "execution_count": 5,
     "metadata": {},
     "output_type": "execute_result"
    }
   ],
   "source": [
    "df1"
   ]
  },
  {
   "cell_type": "code",
   "execution_count": 6,
   "id": "21d2b8ba",
   "metadata": {},
   "outputs": [
    {
     "data": {
      "image/png": "[encoded data removed]",
      "text/plain": [
       "<Figure size 432x288 with 1 Axes>"
      ]
     },
     "metadata": {
      "needs_background": "light"
     },
     "output_type": "display_data"
    }
   ],
   "source": [
    "plt.plot(df1)\n",
    "plt.show()"
   ]
  },
  {
   "cell_type": "code",
   "execution_count": 7,
   "id": "c05ccefa",
   "metadata": {},
   "outputs": [],
   "source": [
    "scaler=MinMaxScaler()\n",
    "df1=scaler.fit_transform(np.array(df1).reshape(-1,1))"
   ]
  },
  {
   "cell_type": "code",
   "execution_count": 8,
   "id": "fe2cbbf8",
   "metadata": {},
   "outputs": [
    {
     "name": "stdout",
     "output_type": "stream",
     "text": [
      "[[0.62418301]\n",
      " [0.62214052]\n",
      " [0.62622549]\n",
      " ...\n",
      " [0.1621732 ]\n",
      " [0.16319444]\n",
      " [0.16584967]]\n"
     ]
    }
   ],
   "source": [
    "print(df1)"
   ]
  },
  {
   "cell_type": "code",
   "execution_count": 9,
   "id": "4692a437",
   "metadata": {},
   "outputs": [],
   "source": [
    "training_size=int(len(df1)*0.70)\n",
    "testing_size=len(df1)-training_size\n",
    "training_data,testing_data=df1[0:training_size,:],df1[training_size:len(df1),:1]"
   ]
  },
  {
   "cell_type": "code",
   "execution_count": 10,
   "id": "1b3ec72b",
   "metadata": {},
   "outputs": [
    {
     "data": {
      "text/plain": [
       "array([[0.62418301],\n",
       "       [0.62214052],\n",
       "       [0.62622549],\n",
       "       ...,\n",
       "       [0.32618464],\n",
       "       [0.32271242],\n",
       "       [0.3247549 ]])"
      ]
     },
     "execution_count": 10,
     "metadata": {},
     "output_type": "execute_result"
    }
   ],
   "source": [
    "training_data"
   ]
  },
  {
   "cell_type": "code",
   "execution_count": 11,
   "id": "68b0b3fb",
   "metadata": {},
   "outputs": [
    {
     "data": {
      "text/plain": [
       "((1424, 1), (611, 1))"
      ]
     },
     "execution_count": 11,
     "metadata": {},
     "output_type": "execute_result"
    }
   ],
   "source": [
    "training_data.shape , testing_data.shape"
   ]
  },
  {
   "cell_type": "code",
   "execution_count": 12,
   "id": "8d6e7a27",
   "metadata": {},
   "outputs": [],
   "source": [
    "def create_dataset(dataset, time_step=1):\n",
    "    data_x, data_y = [],[]\n",
    "    for i in range(len(dataset)-time_step-1):\n",
    "        a = dataset[i:(i+time_step),0]\n",
    "        data_x.append(a)\n",
    "        data_y.append(dataset[i+time_step,0])\n",
    "    #print(len(data_x),len(data_y))\n",
    "    return np.array(data_x), np.array(data_y)"
   ]
  },
  {
   "cell_type": "code",
   "execution_count": 13,
   "id": "7b49b87d",
   "metadata": {},
   "outputs": [],
   "source": [
    "time_step = 100\n",
    "x_train, y_train = create_dataset(training_data,time_step)\n",
    "x_test, y_test = create_dataset(testing_data,time_step)\n"
   ]
  },
  {
   "cell_type": "code",
   "execution_count": 14,
   "id": "9dc19f9a",
   "metadata": {},
   "outputs": [
    {
     "data": {
      "text/plain": [
       "array([[0.62418301, 0.62214052, 0.62622549, ..., 0.83455882, 0.86213235,\n",
       "        0.85273693],\n",
       "       [0.62214052, 0.62622549, 0.63378268, ..., 0.86213235, 0.85273693,\n",
       "        0.87111928],\n",
       "       [0.62622549, 0.63378268, 0.62234477, ..., 0.85273693, 0.87111928,\n",
       "        0.84497549],\n",
       "       ...,\n",
       "       [0.26041667, 0.2563317 , 0.24652778, ..., 0.33415033, 0.33986928,\n",
       "        0.34681373],\n",
       "       [0.2563317 , 0.24652778, 0.23611111, ..., 0.33986928, 0.34681373,\n",
       "        0.3500817 ],\n",
       "       [0.24652778, 0.23611111, 0.25204248, ..., 0.34681373, 0.3500817 ,\n",
       "        0.32618464]])"
      ]
     },
     "execution_count": 14,
     "metadata": {},
     "output_type": "execute_result"
    }
   ],
   "source": [
    "x_train"
   ]
  },
  {
   "cell_type": "code",
   "execution_count": 30,
   "id": "b73d042d",
   "metadata": {},
   "outputs": [
    {
     "data": {
      "text/plain": [
       "array([0.87111928, 0.84497549, 0.84027778, ..., 0.3500817 , 0.32618464,\n",
       "       0.32271242])"
      ]
     },
     "execution_count": 30,
     "metadata": {},
     "output_type": "execute_result"
    }
   ],
   "source": [
    "y_train"
   ]
  },
  {
   "cell_type": "code",
   "execution_count": 15,
   "id": "15644c7c",
   "metadata": {},
   "outputs": [
    {
     "data": {
      "text/plain": [
       "((1323, 100), (1323,))"
      ]
     },
     "execution_count": 15,
     "metadata": {},
     "output_type": "execute_result"
    }
   ],
   "source": [
    "x_train.shape, y_train.shape"
   ]
  },
  {
   "cell_type": "code",
   "execution_count": 16,
   "id": "c2ae9c34",
   "metadata": {},
   "outputs": [],
   "source": [
    "x_train = x_train.reshape(x_train.shape[0],x_train.shape[1], 1)\n",
    "x_test = x_test.reshape(x_test.shape[0],x_test.shape[1],1)"
   ]
  },
  {
   "cell_type": "code",
   "execution_count": 17,
   "id": "6624ec3b",
   "metadata": {},
   "outputs": [
    {
     "data": {
      "text/plain": [
       "(1323, 100, 1)"
      ]
     },
     "execution_count": 17,
     "metadata": {},
     "output_type": "execute_result"
    }
   ],
   "source": [
    "x_train.shape"
   ]
  },
  {
   "cell_type": "code",
   "execution_count": 18,
   "id": "147d34db",
   "metadata": {},
   "outputs": [],
   "source": [
    "model = Sequential()\n",
    "model.add(LSTM(50,return_sequences=True,input_shape=(100,1)))\n",
    "model.add(LSTM(50,return_sequences=True))\n",
    "model.add(LSTM(50))\n",
    "model.add(Dense(1))\n",
    "model.compile(loss='mean_squared_error',optimizer='adam')"
   ]
  },
  {
   "cell_type": "code",
   "execution_count": 19,
   "id": "86f06b88",
   "metadata": {},
   "outputs": [
    {
     "name": "stdout",
     "output_type": "stream",
     "text": [
      "Model: \"sequential\"\n",
      "_________________________________________________________________\n",
      "Layer (type)                 Output Shape              Param #   \n",
      "=================================================================\n",
      "lstm (LSTM)                  (None, 100, 50)           10400     \n",
      "_________________________________________________________________\n",
      "lstm_1 (LSTM)                (None, 100, 50)           20200     \n",
      "_________________________________________________________________\n",
      "lstm_2 (LSTM)                (None, 50)                20200     \n",
      "_________________________________________________________________\n",
      "dense (Dense)                (None, 1)                 51        \n",
      "=================================================================\n",
      "Total params: 50,851\n",
      "Trainable params: 50,851\n",
      "Non-trainable params: 0\n",
      "_________________________________________________________________\n"
     ]
    }
   ],
   "source": [
    "model.summary()"
   ]
  },
  {
   "cell_type": "code",
   "execution_count": 20,
   "id": "324a2a30",
   "metadata": {
    "scrolled": true
   },
   "outputs": [
    {
     "name": "stdout",
     "output_type": "stream",
     "text": [
      "Epoch 1/100\n",
      "21/21 [==============================] - 14s 343ms/step - loss: 0.0190 - val_loss: 0.0064\n",
      "Epoch 2/100\n",
      "21/21 [==============================] - 6s 267ms/step - loss: 0.0025 - val_loss: 8.3129e-04\n",
      "Epoch 3/100\n",
      "21/21 [==============================] - 5s 253ms/step - loss: 0.0017 - val_loss: 0.0014\n",
      "Epoch 4/100\n",
      "21/21 [==============================] - 6s 270ms/step - loss: 0.0017 - val_loss: 0.0012\n",
      "Epoch 5/100\n",
      "21/21 [==============================] - 5s 258ms/step - loss: 0.0016 - val_loss: 0.0013\n",
      "Epoch 6/100\n",
      "21/21 [==============================] - 5s 254ms/step - loss: 0.0017 - val_loss: 0.0013\n",
      "Epoch 7/100\n",
      "21/21 [==============================] - 5s 257ms/step - loss: 0.0015 - val_loss: 0.0011\n",
      "Epoch 8/100\n",
      "21/21 [==============================] - 6s 265ms/step - loss: 0.0014 - val_loss: 0.0014\n",
      "Epoch 9/100\n",
      "21/21 [==============================] - 6s 265ms/step - loss: 0.0014 - val_loss: 8.7434e-04\n",
      "Epoch 10/100\n",
      "21/21 [==============================] - 6s 264ms/step - loss: 0.0012 - val_loss: 9.8561e-04\n",
      "Epoch 11/100\n",
      "21/21 [==============================] - 6s 267ms/step - loss: 0.0013 - val_loss: 9.5194e-04\n",
      "Epoch 12/100\n",
      "21/21 [==============================] - 6s 286ms/step - loss: 0.0012 - val_loss: 9.7793e-04\n",
      "Epoch 13/100\n",
      "21/21 [==============================] - 6s 277ms/step - loss: 0.0011 - val_loss: 7.6975e-04\n",
      "Epoch 14/100\n",
      "21/21 [==============================] - 5s 253ms/step - loss: 0.0011 - val_loss: 8.9665e-04\n",
      "Epoch 15/100\n",
      "21/21 [==============================] - 5s 252ms/step - loss: 9.8482e-04 - val_loss: 8.8290e-04\n",
      "Epoch 16/100\n",
      "21/21 [==============================] - 5s 251ms/step - loss: 0.0010 - val_loss: 5.5501e-04\n",
      "Epoch 17/100\n",
      "21/21 [==============================] - 6s 277ms/step - loss: 9.5292e-04 - val_loss: 7.5283e-04\n",
      "Epoch 18/100\n",
      "21/21 [==============================] - 5s 259ms/step - loss: 0.0010 - val_loss: 7.4411e-04\n",
      "Epoch 19/100\n",
      "21/21 [==============================] - 6s 263ms/step - loss: 9.9826e-04 - val_loss: 0.0011\n",
      "Epoch 20/100\n",
      "21/21 [==============================] - 5s 259ms/step - loss: 8.8526e-04 - val_loss: 7.4277e-04\n",
      "Epoch 21/100\n",
      "21/21 [==============================] - 5s 246ms/step - loss: 8.3057e-04 - val_loss: 5.7769e-04\n",
      "Epoch 22/100\n",
      "21/21 [==============================] - 5s 252ms/step - loss: 7.8377e-04 - val_loss: 7.0335e-04\n",
      "Epoch 23/100\n",
      "21/21 [==============================] - 5s 255ms/step - loss: 7.5481e-04 - val_loss: 6.8376e-04\n",
      "Epoch 24/100\n",
      "21/21 [==============================] - 5s 261ms/step - loss: 9.1276e-04 - val_loss: 0.0011\n",
      "Epoch 25/100\n",
      "21/21 [==============================] - 5s 254ms/step - loss: 7.9021e-04 - val_loss: 5.8995e-04\n",
      "Epoch 26/100\n",
      "21/21 [==============================] - 6s 283ms/step - loss: 7.4634e-04 - val_loss: 7.4172e-04\n",
      "Epoch 27/100\n",
      "21/21 [==============================] - 6s 263ms/step - loss: 7.1528e-04 - val_loss: 7.4477e-04\n",
      "Epoch 28/100\n",
      "21/21 [==============================] - 6s 267ms/step - loss: 6.8221e-04 - val_loss: 7.2577e-04\n",
      "Epoch 29/100\n",
      "21/21 [==============================] - 5s 247ms/step - loss: 6.7896e-04 - val_loss: 8.6024e-04\n",
      "Epoch 30/100\n",
      "21/21 [==============================] - 5s 253ms/step - loss: 7.3669e-04 - val_loss: 5.6356e-04\n",
      "Epoch 31/100\n",
      "21/21 [==============================] - 6s 274ms/step - loss: 7.1246e-04 - val_loss: 6.3335e-04\n",
      "Epoch 32/100\n",
      "21/21 [==============================] - 5s 250ms/step - loss: 6.0550e-04 - val_loss: 8.6861e-04\n",
      "Epoch 33/100\n",
      "21/21 [==============================] - 5s 241ms/step - loss: 7.2779e-04 - val_loss: 5.1611e-04\n",
      "Epoch 34/100\n",
      "21/21 [==============================] - 5s 243ms/step - loss: 7.5329e-04 - val_loss: 7.8688e-04\n",
      "Epoch 35/100\n",
      "21/21 [==============================] - 5s 243ms/step - loss: 6.8199e-04 - val_loss: 7.5131e-04\n",
      "Epoch 36/100\n",
      "21/21 [==============================] - 5s 242ms/step - loss: 6.2309e-04 - val_loss: 5.8731e-04\n",
      "Epoch 37/100\n",
      "21/21 [==============================] - 5s 242ms/step - loss: 5.9879e-04 - val_loss: 8.8673e-04\n",
      "Epoch 38/100\n",
      "21/21 [==============================] - 5s 252ms/step - loss: 5.7029e-04 - val_loss: 7.3246e-04\n",
      "Epoch 39/100\n",
      "21/21 [==============================] - 5s 243ms/step - loss: 5.5568e-04 - val_loss: 6.2282e-04\n",
      "Epoch 40/100\n",
      "21/21 [==============================] - 5s 242ms/step - loss: 5.1380e-04 - val_loss: 5.7034e-04\n",
      "Epoch 41/100\n",
      "21/21 [==============================] - 5s 247ms/step - loss: 4.9893e-04 - val_loss: 7.7804e-04\n",
      "Epoch 42/100\n",
      "21/21 [==============================] - 5s 243ms/step - loss: 5.1113e-04 - val_loss: 6.7173e-04\n",
      "Epoch 43/100\n",
      "21/21 [==============================] - 5s 253ms/step - loss: 5.3585e-04 - val_loss: 5.2966e-04\n",
      "Epoch 44/100\n",
      "21/21 [==============================] - 5s 247ms/step - loss: 5.1970e-04 - val_loss: 5.0877e-04\n",
      "Epoch 45/100\n",
      "21/21 [==============================] - 6s 268ms/step - loss: 4.9198e-04 - val_loss: 4.9382e-04\n",
      "Epoch 46/100\n",
      "21/21 [==============================] - 5s 245ms/step - loss: 4.5152e-04 - val_loss: 5.0083e-04\n",
      "Epoch 47/100\n",
      "21/21 [==============================] - 5s 250ms/step - loss: 4.3835e-04 - val_loss: 5.4790e-04\n",
      "Epoch 48/100\n",
      "21/21 [==============================] - 5s 238ms/step - loss: 4.3907e-04 - val_loss: 4.9837e-04\n",
      "Epoch 49/100\n",
      "21/21 [==============================] - 5s 247ms/step - loss: 4.1330e-04 - val_loss: 3.8742e-04\n",
      "Epoch 50/100\n",
      "21/21 [==============================] - 6s 295ms/step - loss: 4.0336e-04 - val_loss: 4.3729e-04\n",
      "Epoch 51/100\n",
      "21/21 [==============================] - 6s 283ms/step - loss: 4.3882e-04 - val_loss: 3.2628e-04\n",
      "Epoch 52/100\n",
      "21/21 [==============================] - 5s 259ms/step - loss: 4.1023e-04 - val_loss: 4.3743e-04\n",
      "Epoch 53/100\n",
      "21/21 [==============================] - 6s 285ms/step - loss: 3.9108e-04 - val_loss: 4.7130e-04\n",
      "Epoch 54/100\n",
      "21/21 [==============================] - 6s 290ms/step - loss: 5.0117e-04 - val_loss: 5.2556e-04\n",
      "Epoch 55/100\n",
      "21/21 [==============================] - 6s 273ms/step - loss: 4.3056e-04 - val_loss: 4.6321e-04\n",
      "Epoch 56/100\n",
      "21/21 [==============================] - 7s 327ms/step - loss: 3.8858e-04 - val_loss: 3.2739e-04\n",
      "Epoch 57/100\n",
      "21/21 [==============================] - 6s 278ms/step - loss: 3.6725e-04 - val_loss: 3.9644e-04\n",
      "Epoch 58/100\n",
      "21/21 [==============================] - 6s 272ms/step - loss: 3.6333e-04 - val_loss: 4.5039e-04\n",
      "Epoch 59/100\n",
      "21/21 [==============================] - 5s 254ms/step - loss: 3.2422e-04 - val_loss: 4.1636e-04\n",
      "Epoch 60/100\n",
      "21/21 [==============================] - 5s 243ms/step - loss: 3.2264e-04 - val_loss: 3.9615e-04\n",
      "Epoch 61/100\n",
      "21/21 [==============================] - 5s 249ms/step - loss: 3.6314e-04 - val_loss: 4.7177e-04\n",
      "Epoch 62/100\n",
      "21/21 [==============================] - 5s 262ms/step - loss: 5.1694e-04 - val_loss: 2.6967e-04\n",
      "Epoch 63/100\n",
      "21/21 [==============================] - 5s 256ms/step - loss: 4.8705e-04 - val_loss: 2.6952e-04\n",
      "Epoch 64/100\n",
      "21/21 [==============================] - 6s 265ms/step - loss: 3.7725e-04 - val_loss: 3.6565e-04\n",
      "Epoch 65/100\n",
      "21/21 [==============================] - 5s 260ms/step - loss: 3.4565e-04 - val_loss: 3.3519e-04\n",
      "Epoch 66/100\n",
      "21/21 [==============================] - 5s 261ms/step - loss: 3.0196e-04 - val_loss: 2.9296e-04\n",
      "Epoch 67/100\n",
      "21/21 [==============================] - 5s 255ms/step - loss: 2.9891e-04 - val_loss: 3.0540e-04\n",
      "Epoch 68/100\n",
      "21/21 [==============================] - 5s 258ms/step - loss: 3.4420e-04 - val_loss: 2.8317e-04\n",
      "Epoch 69/100\n",
      "21/21 [==============================] - 5s 260ms/step - loss: 3.0909e-04 - val_loss: 2.4743e-04\n",
      "Epoch 70/100\n",
      "21/21 [==============================] - 5s 246ms/step - loss: 3.2088e-04 - val_loss: 2.6017e-04\n",
      "Epoch 71/100\n",
      "21/21 [==============================] - 5s 256ms/step - loss: 3.1887e-04 - val_loss: 3.4436e-04\n",
      "Epoch 72/100\n",
      "21/21 [==============================] - 5s 248ms/step - loss: 3.4928e-04 - val_loss: 3.6695e-04\n",
      "Epoch 73/100\n",
      "21/21 [==============================] - 5s 243ms/step - loss: 2.7240e-04 - val_loss: 2.5372e-04\n",
      "Epoch 74/100\n",
      "21/21 [==============================] - 5s 243ms/step - loss: 2.8671e-04 - val_loss: 2.8989e-04\n",
      "Epoch 75/100\n",
      "21/21 [==============================] - 6s 290ms/step - loss: 2.8694e-04 - val_loss: 4.0972e-04\n",
      "Epoch 76/100\n"
     ]
    },
    {
     "name": "stdout",
     "output_type": "stream",
     "text": [
      "21/21 [==============================] - 5s 252ms/step - loss: 2.7565e-04 - val_loss: 2.9758e-04\n",
      "Epoch 77/100\n",
      "21/21 [==============================] - 5s 243ms/step - loss: 2.6193e-04 - val_loss: 3.4095e-04\n",
      "Epoch 78/100\n",
      "21/21 [==============================] - 5s 242ms/step - loss: 2.7420e-04 - val_loss: 2.1892e-04\n",
      "Epoch 79/100\n",
      "21/21 [==============================] - 7s 326ms/step - loss: 2.8391e-04 - val_loss: 2.2942e-04\n",
      "Epoch 80/100\n",
      "21/21 [==============================] - 5s 257ms/step - loss: 3.2243e-04 - val_loss: 2.9325e-04\n",
      "Epoch 81/100\n",
      "21/21 [==============================] - 6s 280ms/step - loss: 2.4873e-04 - val_loss: 2.2432e-04\n",
      "Epoch 82/100\n",
      "21/21 [==============================] - 6s 284ms/step - loss: 2.5136e-04 - val_loss: 2.2861e-04\n",
      "Epoch 83/100\n",
      "21/21 [==============================] - 5s 239ms/step - loss: 2.3907e-04 - val_loss: 2.9814e-04\n",
      "Epoch 84/100\n",
      "21/21 [==============================] - 5s 238ms/step - loss: 2.4399e-04 - val_loss: 2.3871e-04\n",
      "Epoch 85/100\n",
      "21/21 [==============================] - 6s 307ms/step - loss: 2.9068e-04 - val_loss: 2.4901e-04\n",
      "Epoch 86/100\n",
      "21/21 [==============================] - 6s 302ms/step - loss: 2.6444e-04 - val_loss: 2.6731e-04\n",
      "Epoch 87/100\n",
      "21/21 [==============================] - 5s 250ms/step - loss: 2.5228e-04 - val_loss: 2.5238e-04\n",
      "Epoch 88/100\n",
      "21/21 [==============================] - 5s 255ms/step - loss: 2.6364e-04 - val_loss: 1.8373e-04\n",
      "Epoch 89/100\n",
      "21/21 [==============================] - 6s 269ms/step - loss: 2.4214e-04 - val_loss: 2.1116e-04\n",
      "Epoch 90/100\n",
      "21/21 [==============================] - 6s 282ms/step - loss: 2.5070e-04 - val_loss: 1.8390e-04\n",
      "Epoch 91/100\n",
      "21/21 [==============================] - 5s 239ms/step - loss: 2.6541e-04 - val_loss: 2.2392e-04\n",
      "Epoch 92/100\n",
      "21/21 [==============================] - 6s 292ms/step - loss: 2.3175e-04 - val_loss: 1.8722e-04\n",
      "Epoch 93/100\n",
      "21/21 [==============================] - 5s 240ms/step - loss: 2.5638e-04 - val_loss: 1.6813e-04\n",
      "Epoch 94/100\n",
      "21/21 [==============================] - 5s 246ms/step - loss: 3.6849e-04 - val_loss: 1.7691e-04\n",
      "Epoch 95/100\n",
      "21/21 [==============================] - 6s 283ms/step - loss: 2.8181e-04 - val_loss: 1.7585e-04\n",
      "Epoch 96/100\n",
      "21/21 [==============================] - 6s 263ms/step - loss: 2.4467e-04 - val_loss: 1.9944e-04\n",
      "Epoch 97/100\n",
      "21/21 [==============================] - 5s 250ms/step - loss: 2.2031e-04 - val_loss: 1.6975e-04\n",
      "Epoch 98/100\n",
      "21/21 [==============================] - 5s 262ms/step - loss: 2.2932e-04 - val_loss: 2.1698e-04\n",
      "Epoch 99/100\n",
      "21/21 [==============================] - 6s 289ms/step - loss: 2.3775e-04 - val_loss: 2.0140e-04\n",
      "Epoch 100/100\n",
      "21/21 [==============================] - 6s 264ms/step - loss: 2.5177e-04 - val_loss: 2.1755e-04\n"
     ]
    },
    {
     "data": {
      "text/plain": [
       "<keras.callbacks.History at 0x20208303340>"
      ]
     },
     "execution_count": 20,
     "metadata": {},
     "output_type": "execute_result"
    }
   ],
   "source": [
    "model.fit(x_train,y_train,validation_data=(x_test,y_test),epochs=100,batch_size=64,verbose=1)"
   ]
  },
  {
   "cell_type": "code",
   "execution_count": 23,
   "id": "16ce179a",
   "metadata": {},
   "outputs": [
    {
     "data": {
      "text/plain": [
       "'2.6.0'"
      ]
     },
     "execution_count": 23,
     "metadata": {},
     "output_type": "execute_result"
    }
   ],
   "source": [
    "tf.__version__"
   ]
  },
  {
   "cell_type": "code",
   "execution_count": 24,
   "id": "98d8ae00",
   "metadata": {},
   "outputs": [],
   "source": [
    "train_predict = model.predict(x_train)\n",
    "test_predict = model.predict(x_test)"
   ]
  },
  {
   "cell_type": "code",
   "execution_count": 25,
   "id": "01f3031e",
   "metadata": {},
   "outputs": [
    {
     "data": {
      "text/plain": [
       "array([[0.82427186],\n",
       "       [0.8468146 ],\n",
       "       [0.8445766 ],\n",
       "       ...,\n",
       "       [0.33568627],\n",
       "       [0.34184542],\n",
       "       [0.33296466]], dtype=float32)"
      ]
     },
     "execution_count": 25,
     "metadata": {},
     "output_type": "execute_result"
    }
   ],
   "source": [
    "train_predict"
   ]
  },
  {
   "cell_type": "code",
   "execution_count": 26,
   "id": "fe3f6917",
   "metadata": {},
   "outputs": [],
   "source": [
    "train_predict = scaler.inverse_transform(train_predict)\n",
    "test_predict = scaler.inverse_transform(test_predict)"
   ]
  },
  {
   "cell_type": "code",
   "execution_count": 27,
   "id": "d090970e",
   "metadata": {},
   "outputs": [
    {
     "data": {
      "text/plain": [
       "array([[282.73175],\n",
       "       [288.25018],\n",
       "       [287.70236],\n",
       "       ...,\n",
       "       [163.12599],\n",
       "       [164.63376],\n",
       "       [162.45975]], dtype=float32)"
      ]
     },
     "execution_count": 27,
     "metadata": {},
     "output_type": "execute_result"
    }
   ],
   "source": [
    "train_predict"
   ]
  },
  {
   "cell_type": "markdown",
   "id": "26e289a1",
   "metadata": {},
   "source": [
    "#Root mean squared error"
   ]
  },
  {
   "cell_type": "code",
   "execution_count": 28,
   "id": "3fa4dc7c",
   "metadata": {},
   "outputs": [
    {
     "data": {
      "text/plain": [
       "163.464206641708"
      ]
     },
     "execution_count": 28,
     "metadata": {},
     "output_type": "execute_result"
    }
   ],
   "source": [
    "math.sqrt(mean_squared_error(y_train,train_predict))"
   ]
  },
  {
   "cell_type": "code",
   "execution_count": 29,
   "id": "f61b459d",
   "metadata": {},
   "outputs": [
    {
     "data": {
      "text/plain": [
       "108.0452807410922"
      ]
     },
     "execution_count": 29,
     "metadata": {},
     "output_type": "execute_result"
    }
   ],
   "source": [
    "math.sqrt(mean_squared_error(y_test,test_predict))"
   ]
  },
  {
   "cell_type": "code",
   "execution_count": 33,
   "id": "e8f0faf6",
   "metadata": {},
   "outputs": [
    {
     "data": {
      "text/plain": [
       "(2035, 1)"
      ]
     },
     "execution_count": 33,
     "metadata": {},
     "output_type": "execute_result"
    }
   ],
   "source": [
    "df1.shape"
   ]
  },
  {
   "cell_type": "code",
   "execution_count": 32,
   "id": "61adf4df",
   "metadata": {},
   "outputs": [],
   "source": [
    "look_back = 100\n",
    "train_predict_plot = np.empty_like(df1)\n",
    "train_predict_plot[:, :] = np.nan\n",
    "train_predict_plot[look_back:len(train_predict)+look_back, :] = train_predict\n",
    "test_predict_plot = np.empty_like(df1)\n",
    "test_predict_plot[:, :] = np.nan\n",
    "test_predict_plot[len(train_predict)+(look_back * 2) + 1: len(df1) - 1, :] = test_predict"
   ]
  },
  {
   "cell_type": "code",
   "execution_count": 35,
   "id": "0faaec2a",
   "metadata": {},
   "outputs": [
    {
     "data": {
      "image/png": "[encoded data removed]",
      "text/plain": [
       "<Figure size 432x288 with 1 Axes>"
      ]
     },
     "metadata": {
      "needs_background": "light"
     },
     "output_type": "display_data"
    }
   ],
   "source": [
    "#plotting the new graph\n",
    "plt.plot(scaler.inverse_transform(df1))\n",
    "plt.plot(train_predict_plot)\n",
    "plt.plot(test_predict_plot)\n",
    "plt.show()"
   ]
  },
  {
   "cell_type": "code",
   "execution_count": 36,
   "id": "8cafa906",
   "metadata": {},
   "outputs": [
    {
     "name": "stdout",
     "output_type": "stream",
     "text": [
      "611\n"
     ]
    }
   ],
   "source": [
    "print(len(testing_data))"
   ]
  },
  {
   "cell_type": "code",
   "execution_count": 37,
   "id": "c842291b",
   "metadata": {},
   "outputs": [
    {
     "data": {
      "text/plain": [
       "(1, 270)"
      ]
     },
     "execution_count": 37,
     "metadata": {},
     "output_type": "execute_result"
    }
   ],
   "source": [
    "x_input = testing_data[341:].reshape(1,-1)\n",
    "x_input.shape"
   ]
  },
  {
   "cell_type": "code",
   "execution_count": 38,
   "id": "219e76c3",
   "metadata": {},
   "outputs": [],
   "source": [
    "temp_input=list(x_input)\n",
    "temp_input=temp_input[0].tolist()"
   ]
  },
  {
   "cell_type": "code",
   "execution_count": 39,
   "id": "b6d9b7d6",
   "metadata": {},
   "outputs": [
    {
     "data": {
      "text/plain": [
       "[0.08721405228758167,\n",
       " 0.08986928104575165,\n",
       " 0.10498366013071897,\n",
       " 0.08905228758169931,\n",
       " 0.10355392156862742,\n",
       " 0.10375816993464049,\n",
       " 0.12275326797385616,\n",
       " 0.1090686274509804,\n",
       " 0.09660947712418294,\n",
       " 0.10641339869281041,\n",
       " 0.10457516339869277,\n",
       " 0.11049836601307189,\n",
       " 0.11274509803921567,\n",
       " 0.0980392156862745,\n",
       " 0.09987745098039214,\n",
       " 0.08925653594771238,\n",
       " 0.07475490196078427,\n",
       " 0.08169934640522875,\n",
       " 0.08925653594771238,\n",
       " 0.09068627450980393,\n",
       " 0.08129084967320255,\n",
       " 0.08823529411764702,\n",
       " 0.08455882352941174,\n",
       " 0.07945261437908496,\n",
       " 0.08374183006535946,\n",
       " 0.0778186274509804,\n",
       " 0.09824346405228757,\n",
       " 0.090890522875817,\n",
       " 0.09007352941176466,\n",
       " 0.09558823529411759,\n",
       " 0.06862745098039214,\n",
       " 0.06372549019607837,\n",
       " 0.04942810457516339,\n",
       " 0.04799836601307189,\n",
       " 0.04534313725490191,\n",
       " 0.044321895424836555,\n",
       " 0.03941993464052285,\n",
       " 0.03799019607843135,\n",
       " 0.04656862745098034,\n",
       " 0.05085784313725489,\n",
       " 0.07209967320261434,\n",
       " 0.065359477124183,\n",
       " 0.07230392156862747,\n",
       " 0.07802287581699341,\n",
       " 0.07741013071895425,\n",
       " 0.060866013071895375,\n",
       " 0.06413398692810457,\n",
       " 0.07046568627450978,\n",
       " 0.054125816993464027,\n",
       " 0.04983660130718953,\n",
       " 0.05167483660130712,\n",
       " 0.05330882352941174,\n",
       " 0.04350490196078427,\n",
       " 0.026348039215686292,\n",
       " 0.024101307189542454,\n",
       " 0.02961601307189543,\n",
       " 0.019607843137254888,\n",
       " 0.02961601307189543,\n",
       " 0.04575163398692811,\n",
       " 0.05923202614379086,\n",
       " 0.0667892156862745,\n",
       " 0.06229575163398693,\n",
       " 0.06311274509803921,\n",
       " 0.06290849673202609,\n",
       " 0.06658496732026142,\n",
       " 0.07434640522875818,\n",
       " 0.06944444444444442,\n",
       " 0.08088235294117646,\n",
       " 0.07700163398692805,\n",
       " 0.06842320261437906,\n",
       " 0.06781045751633985,\n",
       " 0.06290849673202609,\n",
       " 0.06924019607843135,\n",
       " 0.07557189542483661,\n",
       " 0.0778186274509804,\n",
       " 0.08088235294117646,\n",
       " 0.0884395424836601,\n",
       " 0.09395424836601307,\n",
       " 0.09599673202614378,\n",
       " 0.08660130718954251,\n",
       " 0.09027777777777773,\n",
       " 0.08517156862745096,\n",
       " 0.08374183006535946,\n",
       " 0.07945261437908496,\n",
       " 0.09109477124183002,\n",
       " 0.09129901960784309,\n",
       " 0.08803104575163395,\n",
       " 0.09681372549019607,\n",
       " 0.11417483660130717,\n",
       " 0.10498366013071897,\n",
       " 0.09987745098039214,\n",
       " 0.08537581699346403,\n",
       " 0.08047385620915032,\n",
       " 0.06862745098039214,\n",
       " 0.06576797385620914,\n",
       " 0.061478758169934644,\n",
       " 0.0716911764705882,\n",
       " 0.0702614379084967,\n",
       " 0.07475490196078427,\n",
       " 0.06821895424836599,\n",
       " 0.06924019607843135,\n",
       " 0.07066993464052285,\n",
       " 0.06801470588235292,\n",
       " 0.0667892156862745,\n",
       " 0.07414215686274506,\n",
       " 0.0716911764705882,\n",
       " 0.08639705882352938,\n",
       " 0.08312908496732024,\n",
       " 0.06311274509803921,\n",
       " 0.06290849673202609,\n",
       " 0.05167483660130712,\n",
       " 0.031862745098039214,\n",
       " 0.04003267973856206,\n",
       " 0.03860294117647056,\n",
       " 0.041053921568627416,\n",
       " 0.033905228758169925,\n",
       " 0.031249999999999944,\n",
       " 0.026348039215686292,\n",
       " 0.05861928104575159,\n",
       " 0.06311274509803921,\n",
       " 0.06209150326797386,\n",
       " 0.055351307189542454,\n",
       " 0.08455882352941174,\n",
       " 0.05514705882352938,\n",
       " 0.06045751633986923,\n",
       " 0.055759803921568596,\n",
       " 0.04391339869281047,\n",
       " 0.029207516339869233,\n",
       " 0.028186274509803877,\n",
       " 0.04718137254901961,\n",
       " 0.06045751633986923,\n",
       " 0.05861928104575159,\n",
       " 0.06168300653594766,\n",
       " 0.06699346405228751,\n",
       " 0.07087418300653592,\n",
       " 0.07557189542483661,\n",
       " 0.07700163398692805,\n",
       " 0.10375816993464049,\n",
       " 0.10314542483660127,\n",
       " 0.10334967320261434,\n",
       " 0.10089869281045749,\n",
       " 0.1043709150326797,\n",
       " 0.0980392156862745,\n",
       " 0.09722222222222221,\n",
       " 0.09783496732026142,\n",
       " 0.09579248366013071,\n",
       " 0.09109477124183002,\n",
       " 0.09313725490196079,\n",
       " 0.0855800653594771,\n",
       " 0.0951797385620915,\n",
       " 0.11172385620915032,\n",
       " 0.12275326797385616,\n",
       " 0.12806372549019607,\n",
       " 0.1313316993464052,\n",
       " 0.12479575163398693,\n",
       " 0.11090686274509798,\n",
       " 0.10743464052287577,\n",
       " 0.11621732026143788,\n",
       " 0.1168300653594771,\n",
       " 0.11764705882352938,\n",
       " 0.12888071895424835,\n",
       " 0.1284722222222222,\n",
       " 0.13337418300653592,\n",
       " 0.1423611111111111,\n",
       " 0.1409313725490196,\n",
       " 0.13970588235294118,\n",
       " 0.13827614379084963,\n",
       " 0.13541666666666663,\n",
       " 0.13010620915032678,\n",
       " 0.12254901960784315,\n",
       " 0.12479575163398693,\n",
       " 0.1384803921568627,\n",
       " 0.14011437908496732,\n",
       " 0.1388888888888889,\n",
       " 0.13541666666666663,\n",
       " 0.14011437908496732,\n",
       " 0.13807189542483655,\n",
       " 0.130718954248366,\n",
       " 0.130718954248366,\n",
       " 0.12867647058823528,\n",
       " 0.11846405228758167,\n",
       " 0.14644607843137253,\n",
       " 0.1480800653594771,\n",
       " 0.159109477124183,\n",
       " 0.15992647058823523,\n",
       " 0.1578839869281045,\n",
       " 0.16441993464052285,\n",
       " 0.178921568627451,\n",
       " 0.17933006535947704,\n",
       " 0.19260620915032678,\n",
       " 0.2081290849673203,\n",
       " 0.18974673202614378,\n",
       " 0.18055555555555558,\n",
       " 0.1823937908496731,\n",
       " 0.17708333333333326,\n",
       " 0.17810457516339862,\n",
       " 0.18055555555555558,\n",
       " 0.17810457516339862,\n",
       " 0.17851307189542487,\n",
       " 0.196078431372549,\n",
       " 0.18913398692810457,\n",
       " 0.1895424836601307,\n",
       " 0.19403594771241828,\n",
       " 0.19444444444444442,\n",
       " 0.20200163398692816,\n",
       " 0.19771241830065356,\n",
       " 0.19934640522875813,\n",
       " 0.19873366013071891,\n",
       " 0.19975490196078427,\n",
       " 0.21282679738562094,\n",
       " 0.21568627450980393,\n",
       " 0.2044526143790849,\n",
       " 0.21772875816993464,\n",
       " 0.21098856209150318,\n",
       " 0.21425653594771243,\n",
       " 0.1975081699346406,\n",
       " 0.1881127450980392,\n",
       " 0.17851307189542487,\n",
       " 0.17381535947712412,\n",
       " 0.16033496732026142,\n",
       " 0.16564542483660127,\n",
       " 0.1711601307189542,\n",
       " 0.17422385620915026,\n",
       " 0.1803513071895424,\n",
       " 0.1740196078431372,\n",
       " 0.16278594771241828,\n",
       " 0.1697303921568627,\n",
       " 0.17810457516339862,\n",
       " 0.1703431372549019,\n",
       " 0.16830065359477125,\n",
       " 0.17279411764705876,\n",
       " 0.1754493464052288,\n",
       " 0.18382352941176472,\n",
       " 0.19138071895424835,\n",
       " 0.18913398692810457,\n",
       " 0.1909722222222222,\n",
       " 0.17238562091503273,\n",
       " 0.16830065359477125,\n",
       " 0.16932189542483655,\n",
       " 0.1717728758169934,\n",
       " 0.16156045751633985,\n",
       " 0.14971405228758167,\n",
       " 0.15032679738562088,\n",
       " 0.1519607843137255,\n",
       " 0.1472630718954248,\n",
       " 0.14501633986928103,\n",
       " 0.14603758169934639,\n",
       " 0.12479575163398693,\n",
       " 0.13112745098039214,\n",
       " 0.11397058823529405,\n",
       " 0.11907679738562088,\n",
       " 0.12377450980392157,\n",
       " 0.13562091503267976,\n",
       " 0.12908496732026142,\n",
       " 0.1345996732026144,\n",
       " 0.12806372549019607,\n",
       " 0.13031045751633985,\n",
       " 0.12724673202614373,\n",
       " 0.13521241830065356,\n",
       " 0.1452205882352941,\n",
       " 0.15257352941176466,\n",
       " 0.14848856209150324,\n",
       " 0.14338235294117646,\n",
       " 0.14562908496732024,\n",
       " 0.1523692810457516,\n",
       " 0.15400326797385622,\n",
       " 0.14971405228758167,\n",
       " 0.16217320261437906,\n",
       " 0.16319444444444448,\n",
       " 0.16584967320261434]"
      ]
     },
     "execution_count": 39,
     "metadata": {},
     "output_type": "execute_result"
    }
   ],
   "source": [
    "temp_input"
   ]
  },
  {
   "cell_type": "code",
   "execution_count": 45,
   "id": "9c60e7ad",
   "metadata": {},
   "outputs": [
    {
     "data": {
      "image/png": "[encoded data removed]",
      "text/plain": [
       "<Figure size 432x288 with 1 Axes>"
      ]
     },
     "metadata": {
      "needs_background": "light"
     },
     "output_type": "display_data"
    }
   ],
   "source": [
    "df2 = df1.tolist()\n",
    "plt.plot(df2[1200:])\n",
    "plt.show()"
   ]
  },
  {
   "cell_type": "code",
   "execution_count": 47,
   "id": "3ee8d789",
   "metadata": {},
   "outputs": [
    {
     "data": {
      "image/png": "[encoded data removed]",
      "text/plain": [
       "<Figure size 432x288 with 1 Axes>"
      ]
     },
     "metadata": {
      "needs_background": "light"
     },
     "output_type": "display_data"
    }
   ],
   "source": [
    "df2=scaler.inverse_transform(df2).tolist()\n",
    "plt.plot(df2)\n",
    "plt.show()"
   ]
  },
  {
   "cell_type": "markdown",
   "id": "fdaa7c20",
   "metadata": {},
   "source": [
    "# Thank You.."
   ]
  }
 ],
 "metadata": {
  "kernelspec": {
   "display_name": "Python 3 (ipykernel)",
   "language": "python",
   "name": "python3"
  },
  "language_info": {
   "codemirror_mode": {
    "name": "ipython",
    "version": 3
   },
   "file_extension": ".py",
   "mimetype": "text/x-python",
   "name": "python",
   "nbconvert_exporter": "python",
   "pygments_lexer": "ipython3",
   "version": "3.9.7"
  }
 },
 "nbformat": 4,
 "nbformat_minor": 5
}
